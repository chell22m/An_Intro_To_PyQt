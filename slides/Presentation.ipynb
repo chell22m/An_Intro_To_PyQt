{
 "cells": [
  {
   "cell_type": "markdown",
   "metadata": {
    "collapsed": true,
    "slideshow": {
     "slide_type": "slide"
    }
   },
   "source": [
    "# An Intro To Building GUI Applications Using PyQt\n",
    "<img style=\"float: center;\" src=\"cookie_background.png\">\n",
    "### Monica Chelliah"
   ]
  },
  {
   "cell_type": "markdown",
   "metadata": {
    "slideshow": {
     "slide_type": "slide"
    }
   },
   "source": [
    "## Overview\n",
    "\n",
    "1. What is PyQt?\n",
    "\n",
    "2. \"Quick\" guide on how to get PyQt\n",
    "\n",
    "3. What will we be building today?\n",
    "\n",
    "4. Build it!\n",
    "    - Application Window\n",
    "    - Signals and Slots\n",
    "    - Stylesheets\n",
    "\n",
    "5. Live demo\n",
    "\n",
    "6. Q&A"
   ]
  },
  {
   "cell_type": "markdown",
   "metadata": {
    "slideshow": {
     "slide_type": "slide"
    }
   },
   "source": [
    "## What is PyQt?\n",
    "\n",
    "\n",
    "\n",
    "*\"PyQt combines all the advantages of Qt and Python. A programmer has all the power of Qt, but is able to exploit it with the simplicity of Python.\"* - Riverbank Computing"
   ]
  },
  {
   "cell_type": "markdown",
   "metadata": {
    "slideshow": {
     "slide_type": "slide"
    }
   },
   "source": [
    "# How do I install PyQt?"
   ]
  },
  {
   "cell_type": "markdown",
   "metadata": {
    "slideshow": {
     "slide_type": "subslide"
    }
   },
   "source": [
    "## Wait, which version do I install?\n",
    "\n",
    "- PyQt4 or PyQt5?\n",
    "\n",
    "    *\"The Qt Company no longer supports Qt v4. PyQt5 and Qt v5 are strongly recommended for all new development.\"* - Riverbank Computing\n",
    "\n",
    "- Python version?\n",
    "\n",
    "    *\"Short version: Python 2.x is legacy, Python 3.x is the present and future of the language\"* - (https://wiki.python.org/moin/Python2orPython3)"
   ]
  },
  {
   "cell_type": "markdown",
   "metadata": {
    "slideshow": {
     "slide_type": "subslide"
    }
   },
   "source": [
    "## How to get started with a clean machine? (OSX)\n",
    "\n",
    "1. Install Homebrew (if you don't already have it)\n",
    "\n",
    "    *\"Homebrew installs the stuff you need that Apple didn’t.\"* - Homebrew\n",
    "    \n",
    "2. Run:\n",
    "\n",
    "        $ brew install pyqt5\n",
    "\n",
    "3. Add the following to your .bash_profile: \n",
    "\n",
    "        $ export PYTHONPATH=/usr/local/lib/python3.5/site-packages/:$PYTHONPATH\n",
    "\n",
    "4. Check if all went well by:\n",
    "    \n",
    "        $ python3 -c 'import PyQt5"
   ]
  },
  {
   "cell_type": "markdown",
   "metadata": {
    "slideshow": {
     "slide_type": "subslide"
    }
   },
   "source": [
    "## Also, you can set it up with a virtual environment...\n",
    "\n",
    "1. Install virtualenv (if you don't already have it)\n",
    "        $ pip install virtualenv\n",
    "        \n",
    "2. Create the virtual environment\n",
    "        $ virtualenv -p /usr/local/Cellar/python3/3.5.1/Frameworks/Python.framework/Versions/3.5/bin/python3.5 pyqt_env\n",
    "        \n",
    "3. Add the following to **pyqt_env/bin/activate**:\n",
    "   ```text\n",
    "   export OLD_PYTHONPATH=$PYTHONPATH\n",
    "   export PYTHONPATH=/usr/local/lib/python3.5/site-packages/:$PYTHONPATH\n",
    "   ```\n",
    "        \n",
    "4. Add the following inside the deactivate function:\n",
    "   ```text\n",
    "   if ! [ -z \"${PYTHONPATH+_}\" ] ; then\n",
    "       export PYTHONPATH=$OLD_PYTHONPATH\n",
    "   ```\n",
    "        \n",
    "5. To enter the virtual env:\n",
    "        $ source pyqt_env/bin/activate\n",
    "    \n",
    "6. To exit the virtual env:\n",
    "        $ deactivate"
   ]
  },
  {
   "cell_type": "markdown",
   "metadata": {
    "slideshow": {
     "slide_type": "slide"
    }
   },
   "source": [
    "## What editor should I use?\n",
    "\n",
    "- **Qt Creator**\n",
    "\n",
    "    - Developed for Qt users by Qt\n",
    "    - Mainly aimed towards C++ developers\n",
    "    - Some support for Python, but lacks autocomplete.\n",
    "    \n",
    "- **PyCharm**\n",
    "\n",
    "    - I use it :)\n",
    "    - Easy to setup with PyQt\n",
    "    \n",
    "- **Any other editor your heart desires!**"
   ]
  },
  {
   "cell_type": "markdown",
   "metadata": {
    "slideshow": {
     "slide_type": "subslide"
    }
   },
   "source": [
    "# Magic of autocomplete, please!\n",
    "\n",
    "Instructions for setting up autocomplete in PyCharm:\n",
    "\n",
    "1. Download PyCharm\n",
    "    \n",
    "2. Open `New Project…`\n",
    "    \n",
    "3. Open `Preferences` -> `Project: <project name>` -> `Python Interpreter`\n",
    "    \n",
    "4. Click on the Gear Icon -> `More…`\n",
    "    \n",
    "5. Find your virtual env or add it using the plus icon.\n",
    "    \n",
    "6. Any PyQt references should now autocomplete and you should no longer see `Unresolved reference 'PyQt5'`"
   ]
  },
  {
   "cell_type": "markdown",
   "metadata": {
    "slideshow": {
     "slide_type": "subslide"
    }
   },
   "source": [
    "<img src=\"pycharm.png\">"
   ]
  },
  {
   "cell_type": "markdown",
   "metadata": {
    "slideshow": {
     "slide_type": "slide"
    }
   },
   "source": [
    "### Almost there! Last step for setting up your work environment:\n",
    "\n",
    "# Qt Designer\n",
    "\n",
    "\n",
    "- A WYSIWYG application for designing and building GUIs.\n",
    "\n",
    "- Only want to write GUIs programmatically? - You are all set and can skip this.\n",
    "\n",
    "- But, the moto of Qt is *\"code less, create more\"*, so let us take advantage of designer."
   ]
  },
  {
   "cell_type": "markdown",
   "metadata": {
    "slideshow": {
     "slide_type": "subslide"
    }
   },
   "source": [
    "## Install Qt Designer\n",
    "\n",
    "- Unfortunately, brew does not install Qt Designer.\n",
    "\n",
    "- There are two ways you install:\n",
    "\n",
    "    1. Qt Creator - The IDE installs Qt Designer with other tools.\n",
    "        \n",
    "    2. Download the full Qt package and access just Qt Designer.\n",
    "        \n",
    "        Run \n",
    "            <path_to_qt_installation>/5.5/clang_64/bin/Designer.app"
   ]
  },
  {
   "cell_type": "markdown",
   "metadata": {
    "slideshow": {
     "slide_type": "slide"
    }
   },
   "source": [
    "# Now, let's build our Cookie Checkout Application!"
   ]
  },
  {
   "cell_type": "markdown",
   "metadata": {
    "slideshow": {
     "slide_type": "fragment"
    }
   },
   "source": [
    "Specifications for our app:\n",
    "\n",
    "1. Allow us to add different amounts of cookies to the cart.\n",
    "\n",
    "2. Calculate the total and display it to the user."
   ]
  },
  {
   "cell_type": "markdown",
   "metadata": {
    "slideshow": {
     "slide_type": "slide"
    }
   },
   "source": [
    "# Step 1: Design the Application Window"
   ]
  },
  {
   "cell_type": "markdown",
   "metadata": {
    "slideshow": {
     "slide_type": "subslide"
    }
   },
   "source": [
    "### Open Designer and create a new Widget\n",
    "\n",
    "<img src=\"1_Designer.png\">"
   ]
  },
  {
   "cell_type": "markdown",
   "metadata": {
    "slideshow": {
     "slide_type": "subslide"
    }
   },
   "source": [
    "### Add QVBoxLayout to the Form \n",
    "\n",
    "QVBoxLayout (also right-click 'Form' -> Lay out -> Lay Out Vertically - otherwise you will see a block sign)\n",
    "\n",
    "<img src=\"2_layout.png\">"
   ]
  },
  {
   "cell_type": "markdown",
   "metadata": {
    "slideshow": {
     "slide_type": "subslide"
    }
   },
   "source": [
    "### Add QLabel for Title\n",
    "\n",
    "<img src=\"3_title.png\">"
   ]
  },
  {
   "cell_type": "markdown",
   "metadata": {
    "slideshow": {
     "slide_type": "subslide"
    }
   },
   "source": [
    "### QLabel Text Editor\n",
    "\n",
    "<img src=\"4_text_editor.png\">"
   ]
  },
  {
   "cell_type": "markdown",
   "metadata": {
    "slideshow": {
     "slide_type": "subslide"
    }
   },
   "source": [
    "### QGridLayout\n",
    "\n",
    "<img src=\"5_grid_table.png\">"
   ]
  },
  {
   "cell_type": "markdown",
   "metadata": {
    "slideshow": {
     "slide_type": "subslide"
    }
   },
   "source": [
    "### Add QWidgets into QGridLayout\n",
    "\n",
    "<img src=\"6_complete_table.png\">"
   ]
  },
  {
   "cell_type": "markdown",
   "metadata": {
    "slideshow": {
     "slide_type": "subslide"
    }
   },
   "source": [
    "### QPushButtons\n",
    "\n",
    "<img src=\"7_add_to_cart_pushbutton.png\">"
   ]
  },
  {
   "cell_type": "markdown",
   "metadata": {
    "slideshow": {
     "slide_type": "subslide"
    }
   },
   "source": [
    "### Final UI file\n",
    "\n",
    "<img src=\"8_final_ui.png\">"
   ]
  },
  {
   "cell_type": "markdown",
   "metadata": {
    "slideshow": {
     "slide_type": "subslide"
    }
   },
   "source": [
    "### List of QWidgets and Object Names\n",
    "\n",
    "<img src=\"9_object_names.png\">"
   ]
  },
  {
   "cell_type": "markdown",
   "metadata": {
    "slideshow": {
     "slide_type": "slide"
    }
   },
   "source": [
    "## Convert the UI file into Python\n",
    "\n",
    "To import this UI file into our python code and add more functionality to the application, we need to convert it from xml into python.\n",
    "\n",
    "- To convert the UI file, we run **`pyuic5`** in the terminal.\n",
    "\n",
    "    1. The path to `pyuic5`: `/usr/local/Cellar/pyqt5/5.5.1/bin`\n",
    "    \n",
    "    2. \n",
    "            $ pyuic5 cookie.ui -o cookie.py\n"
   ]
  },
  {
   "cell_type": "markdown",
   "metadata": {
    "slideshow": {
     "slide_type": "slide"
    }
   },
   "source": [
    "## Let's write some code to run the application"
   ]
  },
  {
   "cell_type": "markdown",
   "metadata": {
    "slideshow": {
     "slide_type": "fragment"
    }
   },
   "source": [
    "```python\n",
    "import sys\n",
    "from PyQt5 import QtWidgets\n",
    "import cookie_ui\n",
    "\n",
    "\n",
    "class CookieCheckout(QtWidgets.QWidget):\n",
    "\n",
    "    def __init__(self, parent=None):\n",
    "        super(CookieCheckout, self).__init__(parent)\n",
    "        self.ui = cookie_ui.Ui_Form()\n",
    "        self.ui.setupUi(self)\n",
    "        self.setWindowTitle('PyGotham Cookies')\n",
    "\n",
    "\n",
    "def main():\n",
    "    app = QtWidgets.QApplication(sys.argv)\n",
    "    cookie_widget = CookieCheckout()\n",
    "    cookie_widget.show()\n",
    "    sys.exit(app.exec_())\n",
    "\n",
    "if __name__ == \"__main__\":\n",
    "    main()\n",
    "```"
   ]
  },
  {
   "cell_type": "markdown",
   "metadata": {
    "slideshow": {
     "slide_type": "subslide"
    }
   },
   "source": [
    "## Our first PyQt GUI!\n",
    "<img src=\"application_window.png\">"
   ]
  },
  {
   "cell_type": "markdown",
   "metadata": {
    "slideshow": {
     "slide_type": "slide"
    }
   },
   "source": [
    "# Step 2: Add Functionality Through Signals and Slots"
   ]
  },
  {
   "cell_type": "markdown",
   "metadata": {
    "slideshow": {
     "slide_type": "subslide"
    }
   },
   "source": [
    "## Exactly what are signals and slots?\n",
    "\n",
    "- *\"One of the key features of Qt is its use of signals and slots to communicate between objects.\"* - (http://pyqt.sourceforge.net/Docs/PyQt5/signals_slots.html)\n",
    "\n",
    "\n",
    "- *\"A signal is emitted when a particular event occurs. [...] A slot is a function that is called in response to a particular signal.\"*  - (Qt Docs: http://doc.qt.io/qt-4.8/signalsandslots.html)\n",
    "\n",
    "\n",
    "- Any class that inherits from QObject can utilize signals and slots.\n",
    "\n",
    "\n",
    "- Allows for true information encapsulation."
   ]
  },
  {
   "cell_type": "markdown",
   "metadata": {
    "slideshow": {
     "slide_type": "subslide"
    }
   },
   "source": [
    "#### Now, let's use signals and slots to add the missing functionality to our application:"
   ]
  },
  {
   "cell_type": "markdown",
   "metadata": {
    "slideshow": {
     "slide_type": "fragment"
    }
   },
   "source": [
    "```python\n",
    "\n",
    "    def __init__(self, parent=None):\n",
    "        # [...]\n",
    "        self.connectSignalsAndSlots()\n",
    "\n",
    "    def connectSignalsAndSlots(self):\n",
    "        self.ui.add_to_cart_btn.clicked.connect(self.updateCostLabels)\n",
    "        self.ui.checkout_btn.clicked.connect(self.close)\n",
    "\n",
    "    def updateCostLabels(self):\n",
    "        # Get the calculated values\n",
    "        subtotal = self.calculateSubtotal()\n",
    "        shipping = self.calculateShipping()\n",
    "        total = subtotal + shipping\n",
    "\n",
    "        # Update the QLabels in the panel\n",
    "        self.ui.subtotal_val_lbl.setText(self.formatLabel(subtotal))\n",
    "        self.ui.shipping_val_lbl.setText(self.formatLabel(shipping))\n",
    "        self.ui.total_val_lbl.setText(self.formatLabel(total))\n",
    "```"
   ]
  },
  {
   "cell_type": "markdown",
   "metadata": {
    "slideshow": {
     "slide_type": "slide"
    }
   },
   "source": [
    "# Step 3: StyleSheets\n",
    "\n",
    "### Now all this grey is getting boring, so let's add some color!"
   ]
  },
  {
   "cell_type": "markdown",
   "metadata": {
    "slideshow": {
     "slide_type": "subslide"
    }
   },
   "source": [
    "```python\n",
    "\n",
    "    def __init__(self, parent=None):\n",
    "        # [...]\n",
    "        self.setupStyleSheet()\n",
    "\n",
    "    def setupStyleSheet(self):\n",
    "        # Set the background to an image\n",
    "        pixmap = QtGui.QPixmap(':images/cookies_background.png')\n",
    "        brush = QtGui.QBrush(pixmap)\n",
    "        palette = QtGui.QPalette()\n",
    "        palette.setBrush(QtGui.QPalette.Window, brush)\n",
    "        self.setPalette(palette)\n",
    "\n",
    "        # Add a transparent background to all the labels\n",
    "        style = \"QLabel {background: rgba(255, 255, 255, 40%);}\"\n",
    "        self.setStyleSheet(style)\n",
    "\n",
    "        # Change color of total cost label\n",
    "        cost_style = \"QLabel {color: #0099CC; font-weight: bold;}\"\n",
    "        self.ui.total_val_lbl.setStyleSheet(cost_style)\n",
    "        self.ui.total_lbl.setStyleSheet(cost_style)\n",
    "```"
   ]
  },
  {
   "cell_type": "markdown",
   "metadata": {
    "slideshow": {
     "slide_type": "subslide"
    }
   },
   "source": [
    "## What if I want to use my images?\n",
    "\n",
    "1. Need to create a `.qrc` Resource Collections File with the images you need specified in there.\n",
    "            <!DOCTYPE RCC><RCC version=\"1.0\">\n",
    "            <qresource>\n",
    "            <file>images/cookies_background.png</file>\n",
    "            </qresource>\n",
    "            </RCC>\n",
    "2. Then convert the `.qrc` file into python:\n",
    "    \n",
    "        $ pyrcc5 -o images_rc.py images.qrc"
   ]
  },
  {
   "cell_type": "markdown",
   "metadata": {
    "slideshow": {
     "slide_type": "slide"
    }
   },
   "source": [
    "# Live Demo!"
   ]
  },
  {
   "cell_type": "markdown",
   "metadata": {
    "slideshow": {
     "slide_type": "slide"
    }
   },
   "source": [
    "# Thank you!\n",
    "\n",
    "- All code samples available at github: **github.com/chell22m/An_Intro_To_PyQt**\n",
    "\n",
    "- For a complete list of references, please check my github page.\n",
    "\n",
    "- This talk was inspired by Jason Myers's \"Introduction to SQLAlchemy ORM\" from PyGotham 2015\n",
    "\n",
    "<img style=\"float: right;\" src=\"minion_cookie.png\">"
   ]
  },
  {
   "cell_type": "markdown",
   "metadata": {
    "slideshow": {
     "slide_type": "subslide"
    }
   },
   "source": [
    "# Image Credits:\n",
    "\n",
    "- http://villains.wikia.com/wiki/File:Happy_minions.jpg\n",
    "- www.pinterest.com"
   ]
  }
 ],
 "metadata": {
  "celltoolbar": "Slideshow",
  "kernelspec": {
   "display_name": "Python 3",
   "language": "python",
   "name": "python3"
  },
  "language_info": {
   "codemirror_mode": {
    "name": "ipython",
    "version": 3
   },
   "file_extension": ".py",
   "mimetype": "text/x-python",
   "name": "python",
   "nbconvert_exporter": "python",
   "pygments_lexer": "ipython3",
   "version": "3.5.0"
  }
 },
 "nbformat": 4,
 "nbformat_minor": 0
}
